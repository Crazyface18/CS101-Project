{
 "cells": [
  {
   "cell_type": "code",
   "execution_count": 1,
   "id": "d80e0d35",
   "metadata": {},
   "outputs": [],
   "source": [
    "# Initial list of RNA proteins.\n",
    "RNAList = {'UUU':'F', 'CUU':'L', 'AUU':'I', 'GUU':'V',\n",
    "'UUC':'F', 'CUC':'L', 'AUC':'I', 'GUC':'V',\n",
    "'UUA':'L', 'CUA':'L', 'AUA':'I', 'GUA':'V',\n",
    "'UUG':'L', 'CUG':'L', 'AUG':'M', 'GUG':'V',\n",
    "'UCU':'S', 'CCU':'P', 'ACU':'T', 'GCU':'A',\n",
    "'UCC':'S', 'CCC':'P', 'ACC':'T', 'GCC':'A',\n",
    "'UCA':'S', 'CCA':'P', 'ACA':'T', 'GCA':'A',\n",
    "'UCG':'S', 'CCG':'P', 'ACG':'T', 'GCG':'A',\n",
    "'UAU':'Y', 'CAU':'H', 'AAU':'N', 'GAU':'D',\n",
    "'UAC':'Y', 'CAC':'H', 'AAC':'N', 'GAC':'D',\n",
    "'UAA':' ', 'CAA':'Q', 'AAA':'K', 'GAA':'E',\n",
    "'UAG':' ', 'CAG':'Q', 'AAG':'K', 'GAG':'E',\n",
    "'UGU':'C', 'CGU':'R', 'AGU':'S', 'GGU':'G',\n",
    "'UGC':'C', 'CGC':'R', 'AGC':'S', 'GGC':'G',\n",
    "'UGA':' ', 'CGA':'R', 'AGA':'R', 'GGA':'G',\n",
    "'UGG':'W', 'CGG':'R', 'AGG':'R', 'GGG':'G',\n",
    "}\n",
    "\n",
    "#This function is responsible for providing the reverse compliment of a DNA sequence.\n",
    "def reverse_compliment(dna):\n",
    "    reverse = ''\n",
    "    for i in range(0,len(dna)):\n",
    "        if dna[i] == 'A':\n",
    "            reverse += 'T'\n",
    "        elif dna[i] == 'T':\n",
    "            reverse += 'A'\n",
    "        elif dna[i] == 'C':\n",
    "            reverse += 'G'\n",
    "        elif dna[i] == 'G':\n",
    "            reverse += 'C'\n",
    "    return reverse[::-1]       \n",
    "\n",
    "\n",
    "#This function returns the corresponding codon for an RNA protein sequence.\n",
    "def rna2codon(rna):\n",
    "    codon = ''\n",
    "    for i in range(0, len(rna), 3):\n",
    "        codon += RNAList[rna[i:i+3]]\n",
    "    return codon\n",
    "\n",
    "\n",
    "#This function counts the number of protein combinations that can produce a given codon. \n",
    "def source_rna(protein):\n",
    "    values = RNAList.values()\n",
    "    values_list = list(values)\n",
    "    count1 = 0\n",
    "    count2 = 1\n",
    "    proteinStop = protein + ' '\n",
    "    for x in range (0,len(proteinStop)):\n",
    "        for i in range (0,len(RNAList)):\n",
    "            if values_list[i] == proteinStop[x]:\n",
    "                count1 += 1\n",
    "        count2 *= count1\n",
    "        count1 = 0\n",
    "    return count2"
   ]
  },
  {
   "cell_type": "code",
   "execution_count": null,
   "id": "d2bfc6f6",
   "metadata": {},
   "outputs": [],
   "source": []
  }
 ],
 "metadata": {
  "kernelspec": {
   "display_name": "Python 3 (ipykernel)",
   "language": "python",
   "name": "python3"
  },
  "language_info": {
   "codemirror_mode": {
    "name": "ipython",
    "version": 3
   },
   "file_extension": ".py",
   "mimetype": "text/x-python",
   "name": "python",
   "nbconvert_exporter": "python",
   "pygments_lexer": "ipython3",
   "version": "3.9.7"
  }
 },
 "nbformat": 4,
 "nbformat_minor": 5
}
