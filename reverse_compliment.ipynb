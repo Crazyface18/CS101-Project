{
 "cells": [
  {
   "cell_type": "code",
   "execution_count": 1,
   "id": "6d6d9891",
   "metadata": {},
   "outputs": [],
   "source": [
    "#This is the function that is actually responsible for providing the reverse compliment of the DNA sequence.\n",
    "def reverse_compliment(dna):\n",
    "    reverse = ''\n",
    "    for i in range(0,len(dna)):\n",
    "        if dna[i] == 'A':\n",
    "            reverse += 'T'\n",
    "        elif dna[i] == 'T':\n",
    "            reverse += 'A'\n",
    "        elif dna[i] == 'C':\n",
    "            reverse += 'G'\n",
    "        elif dna[i] == 'G':\n",
    "            reverse += 'C'\n",
    "    return reverse[::-1]        "
   ]
  },
  {
   "cell_type": "code",
   "execution_count": null,
   "id": "aa87561e",
   "metadata": {},
   "outputs": [],
   "source": []
  }
 ],
 "metadata": {
  "kernelspec": {
   "display_name": "Python 3 (ipykernel)",
   "language": "python",
   "name": "python3"
  },
  "language_info": {
   "codemirror_mode": {
    "name": "ipython",
    "version": 3
   },
   "file_extension": ".py",
   "mimetype": "text/x-python",
   "name": "python",
   "nbconvert_exporter": "python",
   "pygments_lexer": "ipython3",
   "version": "3.9.7"
  }
 },
 "nbformat": 4,
 "nbformat_minor": 5
}
