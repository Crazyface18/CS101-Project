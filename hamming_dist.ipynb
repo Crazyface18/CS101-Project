{
 "cells": [
  {
   "cell_type": "code",
   "execution_count": 5,
   "id": "516d5ee4",
   "metadata": {},
   "outputs": [],
   "source": [
    "def hamming_dist(dna1, dna2):\n",
    "    count = 0\n",
    "    if len(dna1) == len(dna2):\n",
    "        for i in range (0,len(dna1)):\n",
    "            if dna1[i] != dna2[i]:\n",
    "                count += 1\n",
    "    else:\n",
    "        print ('Strings not the same length.')\n",
    "    return count\n"
   ]
  },
  {
   "cell_type": "code",
   "execution_count": null,
   "id": "0cf389d2",
   "metadata": {},
   "outputs": [],
   "source": []
  }
 ],
 "metadata": {
  "kernelspec": {
   "display_name": "Python 3 (ipykernel)",
   "language": "python",
   "name": "python3"
  },
  "language_info": {
   "codemirror_mode": {
    "name": "ipython",
    "version": 3
   },
   "file_extension": ".py",
   "mimetype": "text/x-python",
   "name": "python",
   "nbconvert_exporter": "python",
   "pygments_lexer": "ipython3",
   "version": "3.9.7"
  }
 },
 "nbformat": 4,
 "nbformat_minor": 5
}
