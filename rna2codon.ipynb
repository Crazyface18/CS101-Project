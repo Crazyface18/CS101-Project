{
 "cells": [
  {
   "cell_type": "code",
   "execution_count": 25,
   "id": "84cad8e2",
   "metadata": {},
   "outputs": [],
   "source": [
    "#This is the initial list of RNA proteins.\n",
    "RNAList = {'UUU':'F', 'CUU':'L', 'AUU':'I', 'GUU':'V',\n",
    "'UUC':'F', 'CUC':'L', 'AUC':'I', 'GUC':'V',\n",
    "'UUA':'L', 'CUA':'L', 'AUA':'I', 'GUA':'V',\n",
    "'UUG':'L', 'CUG':'L', 'AUG':'M', 'GUG':'V',\n",
    "'UCU':'S', 'CCU':'P', 'ACU':'T', 'GCU':'A',\n",
    "'UCC':'S', 'CCC':'P', 'ACC':'T', 'GCC':'A',\n",
    "'UCA':'S', 'CCA':'P', 'ACA':'T', 'GCA':'A',\n",
    "'UCG':'S', 'CCG':'P', 'ACG':'T', 'GCG':'A',\n",
    "'UAU':'Y', 'CAU':'H', 'AAU':'N', 'GAU':'D',\n",
    "'UAC':'Y', 'CAC':'H', 'AAC':'N', 'GAC':'D',\n",
    "'UAA':' ', 'CAA':'Q', 'AAA':'K', 'GAA':'E',\n",
    "'UAG':' ', 'CAG':'Q', 'AAG':'K', 'GAG':'E',\n",
    "'UGU':'C', 'CGU':'R', 'AGU':'S', 'GGU':'G',\n",
    "'UGC':'C', 'CGC':'R', 'AGC':'S', 'GGC':'G',\n",
    "'UGA':' ', 'CGA':'R', 'AGA':'R', 'GGA':'G',\n",
    "'UGG':'W', 'CGG':'R', 'AGG':'R', 'GGG':'G',\n",
    "}\n",
    "#This is the actual function that returns the corresponding codon for an RNA protein sequence.\n",
    "def rna2codon(rna):\n",
    "    codon = ''\n",
    "    for i in range(0, len(rna), 3):\n",
    "        codon += RNAList[rna[i:i+3]]\n",
    "    return codon\n"
   ]
  },
  {
   "cell_type": "code",
   "execution_count": null,
   "id": "9f8cfda0",
   "metadata": {},
   "outputs": [],
   "source": []
  }
 ],
 "metadata": {
  "kernelspec": {
   "display_name": "Python 3 (ipykernel)",
   "language": "python",
   "name": "python3"
  },
  "language_info": {
   "codemirror_mode": {
    "name": "ipython",
    "version": 3
   },
   "file_extension": ".py",
   "mimetype": "text/x-python",
   "name": "python",
   "nbconvert_exporter": "python",
   "pygments_lexer": "ipython3",
   "version": "3.9.7"
  }
 },
 "nbformat": 4,
 "nbformat_minor": 5
}
